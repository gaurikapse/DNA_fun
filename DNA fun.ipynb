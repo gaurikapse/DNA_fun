{
 "cells": [
  {
   "cell_type": "markdown",
   "id": "1024ade5",
   "metadata": {},
   "source": [
    "# DNA Fun!\n",
    "\n",
    "This is a practice project for getting comfortable with string manipulation in Python. It's un-optimised code that doesn't account for a *lot* of things, so it wouldn't work on real genomic sequences. \n",
    "\n",
    "Things I want to do:\n",
    "- Identify a string as a DNA sequence\n",
    "- Similarly, identify a string as an RNA sequence\n",
    "- Reverse complement a DNA sequence\n",
    "- Transcribe DNA to RNA\n",
    "- Find the positions of all the start and stop codons in a sequence\n",
    "- Find all open reading frames in a sequence\n",
    "- Translate a particular ORF into the polypeptide sequence"
   ]
  },
  {
   "cell_type": "code",
   "execution_count": 61,
   "id": "440d0b0e",
   "metadata": {},
   "outputs": [],
   "source": [
    "# Store a DNA sequence and a nonsense sequence\n",
    "dummy_dna = 'ATGTTCCGTACAAGCCCCTCATTTCAGCTAGAGGGTCAACGTTAAGC'\n",
    "dummy_else = 'TVTTCCFLGTACAAGCCCMXCTCATTTCPAGCTAGAGGGTSZDC'\n",
    "dummy_rna = 'UUCCGUACAAGCCCAUGCCUCAUUUCAGCUAGAGGGUCAACGUUAAGC'"
   ]
  },
  {
   "cell_type": "markdown",
   "id": "cc2fcbd6",
   "metadata": {},
   "source": [
    "DNA identifier:"
   ]
  },
  {
   "cell_type": "code",
   "execution_count": 62,
   "id": "19a079dd",
   "metadata": {},
   "outputs": [
    {
     "name": "stdout",
     "output_type": "stream",
     "text": [
      "True\n",
      "False\n"
     ]
    }
   ],
   "source": [
    "def is_dna(seq):\n",
    "    '''\n",
    "    Given a string, determine if it represents a DNA sequence.\n",
    "    '''\n",
    "    assert type(seq) is str, 'please input sequence as string'\n",
    "    intermediate = seq.lower()\n",
    "    num_nucs = intermediate.count('a') + intermediate.count('t') + intermediate.count('g') + intermediate.count('c')\n",
    "    return (num_nucs == len(intermediate))\n",
    "\n",
    "print(is_dna(dummy_dna))\n",
    "print(is_dna(dummy_else))"
   ]
  },
  {
   "cell_type": "markdown",
   "id": "0ecd1fe0",
   "metadata": {},
   "source": [
    "RNA identifier:"
   ]
  },
  {
   "cell_type": "code",
   "execution_count": 50,
   "id": "9e223831",
   "metadata": {},
   "outputs": [
    {
     "name": "stdout",
     "output_type": "stream",
     "text": [
      "True\n",
      "False\n"
     ]
    }
   ],
   "source": [
    "def is_rna(seq):\n",
    "    '''\n",
    "    Given a string, determine if it represents a RNA sequence.\n",
    "    '''\n",
    "    assert type(seq) is str, 'please input sequence as string'\n",
    "    intermediate = seq.lower()\n",
    "    num_nucs = intermediate.count('a') + intermediate.count('u') + intermediate.count('g') + intermediate.count('c')\n",
    "    return (num_nucs == len(intermediate))\n",
    "\n",
    "print(is_rna(dummy_rna))\n",
    "print(is_rna(dummy_dna))"
   ]
  },
  {
   "cell_type": "markdown",
   "id": "5ca16340",
   "metadata": {},
   "source": [
    "Reverse complement:"
   ]
  },
  {
   "cell_type": "code",
   "execution_count": 65,
   "id": "22486cb9",
   "metadata": {},
   "outputs": [
    {
     "data": {
      "text/plain": [
       "'gcttaacgttgaccctctagctgaaatgaggggcttgtacggaacat'"
      ]
     },
     "execution_count": 65,
     "metadata": {},
     "output_type": "execute_result"
    }
   ],
   "source": [
    "def rev_comp(seq):\n",
    "    '''\n",
    "    Returns the reverse complement of a DNA sequence.\n",
    "    '''\n",
    "    assert type(seq) is str, 'please input sequence as string'\n",
    "    assert is_dna(seq) == True, 'the input is not a DNA sequence'\n",
    "    seq = seq.lower()\n",
    "    rev_seq = seq[::-1] #reversed\n",
    "    wc_pair = {'a':'t', 't':'a', 'g':'c', 'c':'g'}\n",
    "    rev_comp = ''.join([wc_pair.get(i) for i in rev_seq])\n",
    "    return rev_comp\n",
    "\n",
    "rev_comp(dummy_dna)"
   ]
  },
  {
   "cell_type": "markdown",
   "id": "88da4351",
   "metadata": {},
   "source": [
    "Transcription:"
   ]
  },
  {
   "cell_type": "code",
   "execution_count": 52,
   "id": "7a06ee83",
   "metadata": {},
   "outputs": [
    {
     "name": "stdout",
     "output_type": "stream",
     "text": [
      "uuccguacaagccccucauuucagcuagagggucaacguuaagc\n",
      "gcuuaacguugacccucuagcugaaaugaggggcuuguacggaa\n"
     ]
    }
   ],
   "source": [
    "def transcribe(seq, strand = 'coding'):\n",
    "    '''\n",
    "    Returns the RNA transcription of the input DNA sequence.\n",
    "    User can specify if the DNA sequence entered is on the coding or non-coding strand.\n",
    "    '''\n",
    "    assert type(seq) is str, 'please input sequence as string'\n",
    "    assert is_dna(seq) == True, 'the input is not a DNA sequence'\n",
    "    \n",
    "    if strand == 'coding':\n",
    "        seq = seq.lower()\n",
    "        return seq.replace('t', 'u')\n",
    "    \n",
    "    elif strand == 'ncoding':\n",
    "        re_co = rev_comp(seq)\n",
    "        return re_co.replace('t', 'u')\n",
    "\n",
    "\n",
    "print(transcribe(dummy_dna))  \n",
    "print(transcribe(dummy_dna, strand = 'ncoding'))"
   ]
  },
  {
   "cell_type": "markdown",
   "id": "71416af3",
   "metadata": {},
   "source": [
    "Start codons and ORFs:"
   ]
  },
  {
   "cell_type": "code",
   "execution_count": 64,
   "id": "e60728f6",
   "metadata": {},
   "outputs": [
    {
     "name": "stdout",
     "output_type": "stream",
     "text": [
      "[14]\n",
      "[0]\n"
     ]
    }
   ],
   "source": [
    "def find_orfs(seq, seq_type = 'rna', strand = 'coding'):\n",
    "    '''\n",
    "    Finds start codons in the input sequence (default type is RNA).\n",
    "    Outputs the starting index of each start codon.\n",
    "    Strand argument refers to coding and noncoding strands of DNA (only specify if input is a DNA sequence)\n",
    "    '''\n",
    "    import re\n",
    "    assert type(seq) is str\n",
    "    \n",
    "    if seq_type == 'rna':\n",
    "        assert is_rna(seq) == True, \"input doesn't match sequence type\"\n",
    "        rna = seq.lower()  \n",
    "    elif seq_type == 'dna':\n",
    "        assert is_dna(seq) == True, \"input doesn't match sequence type\"\n",
    "        rna = transcribe(seq, strand = strand)  \n",
    "    else:\n",
    "        raise ValueError ('inappropriate sequence type')\n",
    "        \n",
    "    M = [m.start() for m in re.finditer('aug', rna)]    \n",
    "    return M\n",
    "\n",
    "    \n",
    "print(find_orfs(dummy_rna, seq_type = 'rna'))\n",
    "print(find_orfs(dummy_dna, seq_type = 'dna'))"
   ]
  },
  {
   "cell_type": "markdown",
   "id": "5ad32767",
   "metadata": {},
   "source": [
    "Find stop codons:"
   ]
  },
  {
   "cell_type": "code",
   "execution_count": 78,
   "id": "4d223a16",
   "metadata": {},
   "outputs": [
    {
     "name": "stdout",
     "output_type": "stream",
     "text": [
      "[43, 29]\n",
      "[42, 28]\n"
     ]
    }
   ],
   "source": [
    "def find_stops(seq, seq_type = 'rna', strand = 'coding'):\n",
    "    '''\n",
    "    Finds stop codons in the input sequence (default type is RNA).\n",
    "    Outputs the starting index of each stop codon.\n",
    "    Strand argument refers to coding and noncoding strands of DNA (only specify if input is a DNA sequence)\n",
    "    '''\n",
    "    import re\n",
    "    assert type(seq) is str\n",
    "    \n",
    "    if seq_type == 'rna':\n",
    "        assert is_rna(seq) == True, \"input doesn't match sequence type\"\n",
    "        rna = seq.lower()  \n",
    "    elif seq_type == 'dna':\n",
    "        assert is_dna(seq) == True, \"input doesn't match sequence type\"\n",
    "        rna = transcribe(seq, strand = strand)  \n",
    "    else:\n",
    "        raise ValueError ('inappropriate sequence type')\n",
    "        \n",
    "    stop_1 = [m.start() for m in re.finditer('uaa', rna)] \n",
    "    stop_2 = [m.start() for m in re.finditer('uag', rna)]\n",
    "    stop_3 = [m.start() for m in re.finditer('uga', rna)]\n",
    "    \n",
    "    return stop_1 + stop_2 + stop_3\n",
    "\n",
    "\n",
    "print(find_stops(dummy_rna, seq_type = 'rna'))\n",
    "print(find_stops(dummy_dna, seq_type = 'dna'))"
   ]
  },
  {
   "cell_type": "markdown",
   "id": "e9f3eb22",
   "metadata": {},
   "source": [
    "Reading frames:"
   ]
  },
  {
   "cell_type": "code",
   "execution_count": 110,
   "id": "5eb90fd1",
   "metadata": {},
   "outputs": [
    {
     "name": "stdout",
     "output_type": "stream",
     "text": [
      "['ATGTTCCGTACAAGCCCCTCATTTCAGCTAGAGGGTCAACGT']\n"
     ]
    },
    {
     "data": {
      "text/plain": [
       "42"
      ]
     },
     "execution_count": 110,
     "metadata": {},
     "output_type": "execute_result"
    }
   ],
   "source": [
    "def find_frames(seq, seq_type = 'rna', strand = 'coding'):\n",
    "    starts = find_orfs(seq, seq_type = seq_type, strand = strand)\n",
    "    ends = find_stops(seq, seq_type = seq_type, strand = strand)\n",
    "    fragments = [(i,j) for i in starts for j in ends]\n",
    "    frames = [seq[i[0]:i[1]] for i in fragments if len(seq[i[0]:i[1]])%3 == 0]\n",
    "    return frames\n",
    "\n",
    "print(find_frames(dummy_dna, seq_type = 'dna'))\n",
    "len(find_frames(dummy_dna, seq_type = 'dna')[0])"
   ]
  },
  {
   "cell_type": "code",
   "execution_count": 116,
   "id": "ecd2884c",
   "metadata": {},
   "outputs": [
    {
     "name": "stdout",
     "output_type": "stream",
     "text": [
      "['MPHFS']\n",
      "['MFRTSPSFQLEGQR']\n"
     ]
    }
   ],
   "source": [
    "def translate(seq, seq_type = 'rna', strand = 'coding'):\n",
    "    '''\n",
    "    Input: RNA (default) or DNA sequence.\n",
    "    Output: a list of all possible polypeptides encoded by the sequence.\n",
    "    '''\n",
    "    assert type(seq) is str\n",
    "    \n",
    "    if seq_type == 'rna':\n",
    "        assert is_rna(seq) == True, \"input doesn't match sequence type\"\n",
    "        rna = seq.lower()  \n",
    "    elif seq_type == 'dna':\n",
    "        assert is_dna(seq) == True, \"input doesn't match sequence type\"\n",
    "        rna = transcribe(seq, strand = strand)  \n",
    "    else:\n",
    "        raise ValueError ('inappropriate sequence type')\n",
    "    \n",
    "    frames = find_frames(rna)\n",
    "\n",
    "    genetic_code = {'ugg': 'W',\n",
    "                    'aug': 'M',\n",
    "                    'uuu': 'F', 'uuc': 'F',\n",
    "                    'uau': 'Y', 'uac': 'Y',\n",
    "                    'cau': 'H', 'cac': 'H',\n",
    "                    'caa': 'Q', 'cag': 'Q',\n",
    "                    'aau': 'N', 'aac': 'N',\n",
    "                    'aaa': 'K', 'aag': 'K',\n",
    "                    'gau': 'D', 'gac': 'D',\n",
    "                    'gaa': 'E', 'gag': 'E',\n",
    "                    'ugu': 'C', 'ugc': 'C',\n",
    "                    'auu': 'I', 'auc': 'I', 'aua': 'I', \n",
    "                    'uaa': 'STOP', 'uag': 'STOP', 'uga': 'STOP',\n",
    "                    'ggu': 'G', 'ggc': 'G', 'gga': 'G', 'ggg': 'G',\n",
    "                    'guu': 'V', 'guc': 'V', 'gua': 'V', 'gug': 'V',\n",
    "                    'ccu': 'P', 'ccc': 'P', 'cca': 'P', 'ccg': 'P', \n",
    "                    'acu': 'T', 'acc': 'T', 'aca': 'T', 'acg': 'T',\n",
    "                    'gcu': 'A', 'gcc': 'A', 'gca': 'A', 'gcg': 'A',\n",
    "                    'cuu': 'L', 'cuc': 'L', 'cua': 'L', 'cug': 'L', 'uua': 'L', 'uug': 'L',\n",
    "                    'cgu': 'R', 'cgc': 'R', 'cga': 'R', 'cgg': 'R','aga': 'R', 'agg': 'R',\n",
    "                    'ucu': 'S', 'ucc': 'S', 'uca': 'S', 'ucg': 'S', 'agu': 'S', 'agc': 'S'}\n",
    "    from textwrap import wrap\n",
    "\n",
    "    result = []\n",
    "    for i in frames:\n",
    "        codons = wrap(i, 3)\n",
    "        polypeptide = ''.join([genetic_code.get(c) for c in codons])\n",
    "        result.append(polypeptide)\n",
    "        \n",
    "    return result\n",
    "\n",
    "print(translate(dummy_rna))\n",
    "print(translate(dummy_dna, seq_type = 'dna'))"
   ]
  },
  {
   "cell_type": "markdown",
   "id": "9835cc30",
   "metadata": {},
   "source": [
    "Done! Now I can start with any short DNA or RNA sequence and find all the possible polypeptide sequences it encodes :)"
   ]
  }
 ],
 "metadata": {
  "kernelspec": {
   "display_name": "Python 3",
   "language": "python",
   "name": "python3"
  },
  "language_info": {
   "codemirror_mode": {
    "name": "ipython",
    "version": 3
   },
   "file_extension": ".py",
   "mimetype": "text/x-python",
   "name": "python",
   "nbconvert_exporter": "python",
   "pygments_lexer": "ipython3",
   "version": "3.8.8"
  }
 },
 "nbformat": 4,
 "nbformat_minor": 5
}
